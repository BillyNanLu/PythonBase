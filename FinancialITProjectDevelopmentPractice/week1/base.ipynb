{
 "cells": [
  {
   "metadata": {},
   "cell_type": "markdown",
   "source": "# Week1",
   "id": "cf048118f9baeca6"
  },
  {
   "metadata": {
    "ExecuteTime": {
     "end_time": "2025-09-08T04:47:59.281684Z",
     "start_time": "2025-09-08T04:47:59.274787Z"
    }
   },
   "cell_type": "code",
   "source": "print('hello world')",
   "id": "9d75704cbf2c32cc",
   "outputs": [
    {
     "name": "stdout",
     "output_type": "stream",
     "text": [
      "hello world\n"
     ]
    }
   ],
   "execution_count": 32
  },
  {
   "metadata": {},
   "cell_type": "markdown",
   "source": "# 一、基础语法",
   "id": "754d0e0f7c2324fb"
  },
  {
   "metadata": {
    "ExecuteTime": {
     "end_time": "2025-09-08T04:47:59.309948Z",
     "start_time": "2025-09-08T04:47:59.307353Z"
    }
   },
   "cell_type": "code",
   "source": [
    "a = 100\n",
    "a = \"abc\"\n",
    "a = 0.99\n",
    "print(a)"
   ],
   "id": "51011f9e24bf8e11",
   "outputs": [
    {
     "name": "stdout",
     "output_type": "stream",
     "text": [
      "0.99\n"
     ]
    }
   ],
   "execution_count": 33
  },
  {
   "metadata": {
    "ExecuteTime": {
     "end_time": "2025-09-08T04:47:59.328666Z",
     "start_time": "2025-09-08T04:47:59.325743Z"
    }
   },
   "cell_type": "code",
   "source": [
    "# python数据类型 int整数  float浮点数    bool布尔数     str字符串\n",
    "# int类型整数\n",
    "a = 32\n",
    "# 禁止问题\n",
    "a_bin = 0b1101\n",
    "a_oct = 0o5654\n",
    "a_hex = 0xabc\n",
    "print(a_bin, a_oct, a_hex)\n",
    "\n",
    "print ('-' * 20)\n",
    "\n",
    "a = 12333\n",
    "print(bin(a), oct(a), hex(a))"
   ],
   "id": "a914168933c9c99d",
   "outputs": [
    {
     "name": "stdout",
     "output_type": "stream",
     "text": [
      "13 2988 2748\n",
      "--------------------\n",
      "0b11000000101101 0o30055 0x302d\n"
     ]
    }
   ],
   "execution_count": 34
  },
  {
   "metadata": {
    "ExecuteTime": {
     "end_time": "2025-09-08T04:47:59.348141Z",
     "start_time": "2025-09-08T04:47:59.346086Z"
    }
   },
   "cell_type": "code",
   "source": [
    "a = \"123\"\n",
    "print(int(a))"
   ],
   "id": "cb4e3b495b0254ac",
   "outputs": [
    {
     "name": "stdout",
     "output_type": "stream",
     "text": [
      "123\n"
     ]
    }
   ],
   "execution_count": 35
  },
  {
   "metadata": {
    "ExecuteTime": {
     "end_time": "2025-09-08T04:47:59.367940Z",
     "start_time": "2025-09-08T04:47:59.366199Z"
    }
   },
   "cell_type": "code",
   "source": [
    "a = \"1a3\"\n",
    "print(int(a, base=16))"
   ],
   "id": "c3e4783b768d770",
   "outputs": [
    {
     "name": "stdout",
     "output_type": "stream",
     "text": [
      "419\n"
     ]
    }
   ],
   "execution_count": 36
  },
  {
   "metadata": {
    "ExecuteTime": {
     "end_time": "2025-09-08T04:47:59.388395Z",
     "start_time": "2025-09-08T04:47:59.386539Z"
    }
   },
   "cell_type": "code",
   "source": [
    "# float浮点数\n",
    "a = 0.1 + 0.2\n",
    "print(a == 0.3)"
   ],
   "id": "8015c9a003a9b515",
   "outputs": [
    {
     "name": "stdout",
     "output_type": "stream",
     "text": [
      "False\n"
     ]
    }
   ],
   "execution_count": 37
  },
  {
   "metadata": {
    "ExecuteTime": {
     "end_time": "2025-09-08T04:47:59.409608Z",
     "start_time": "2025-09-08T04:47:59.407608Z"
    }
   },
   "cell_type": "code",
   "source": [
    "# 布尔数 bool true false\n",
    "print(bool(0))\n",
    "print(bool(0.000000001))\n",
    "print(bool(\" \"))\n",
    "print(bool(\"\"))"
   ],
   "id": "7d9b39ef4d6211d8",
   "outputs": [
    {
     "name": "stdout",
     "output_type": "stream",
     "text": [
      "False\n",
      "True\n",
      "True\n",
      "False\n"
     ]
    }
   ],
   "execution_count": 38
  },
  {
   "metadata": {},
   "cell_type": "markdown",
   "source": "# 二、运算符",
   "id": "f3fad6c7dc9cf92"
  },
  {
   "metadata": {
    "ExecuteTime": {
     "end_time": "2025-09-08T04:47:59.431380Z",
     "start_time": "2025-09-08T04:47:59.429482Z"
    }
   },
   "cell_type": "code",
   "source": [
    "# 运算符 %取余数  //取整\n",
    "print(2 ** (1/3))\n",
    "\n",
    "n = 1000000\n",
    "e = (1 + 1/n) ** n\n",
    "print(f\"n = {n}, e = {e}\")"
   ],
   "id": "921abb897f2629f9",
   "outputs": [
    {
     "name": "stdout",
     "output_type": "stream",
     "text": [
      "1.2599210498948732\n",
      "n = 1000000, e = 2.7182804690957534\n"
     ]
    }
   ],
   "execution_count": 39
  },
  {
   "metadata": {
    "ExecuteTime": {
     "end_time": "2025-09-08T04:47:59.455913Z",
     "start_time": "2025-09-08T04:47:59.453670Z"
    }
   },
   "cell_type": "code",
   "source": [
    "# 逻辑运算\n",
    "print(3 > 4, 4 <= 4)\n",
    "print(3 > 4 or 4 <= 4)\n",
    "print(3 or 4 or 5)\n",
    "print(3 and 4 and 5)"
   ],
   "id": "4cf9761e5cc0dba2",
   "outputs": [
    {
     "name": "stdout",
     "output_type": "stream",
     "text": [
      "False True\n",
      "True\n",
      "3\n",
      "5\n"
     ]
    }
   ],
   "execution_count": 40
  },
  {
   "metadata": {},
   "cell_type": "markdown",
   "source": "# 三、程序控制",
   "id": "b5d730c1d79373a5"
  },
  {
   "metadata": {
    "ExecuteTime": {
     "end_time": "2025-09-08T04:47:59.474893Z",
     "start_time": "2025-09-08T04:47:59.472967Z"
    }
   },
   "cell_type": "code",
   "source": [
    "# if else\n",
    "age = 19\n",
    "if age >= 18:\n",
    "    print('you can enter')\n",
    "else:\n",
    "    print('you can not enter')"
   ],
   "id": "aba267ee114e7b15",
   "outputs": [
    {
     "name": "stdout",
     "output_type": "stream",
     "text": [
      "you can enter\n"
     ]
    }
   ],
   "execution_count": 41
  },
  {
   "metadata": {},
   "cell_type": "markdown",
   "source": "# 四、字符串",
   "id": "8207202504414dfe"
  },
  {
   "metadata": {
    "ExecuteTime": {
     "end_time": "2025-09-08T04:47:59.495824Z",
     "start_time": "2025-09-08T04:47:59.493697Z"
    }
   },
   "cell_type": "code",
   "source": [
    "# 字符串 ''     \"\"      \"\"\" \"\"\"\n",
    "a_str = \"abc\"\n",
    "b_str = 'I love Python'\n",
    "c_str = \"\"\"\n",
    "life is short,\n",
    "I love Python!\n",
    "\"\"\"\n",
    "\n",
    "print(a_str)\n",
    "print(b_str)\n",
    "print(c_str)"
   ],
   "id": "4dbaaa8318a8a515",
   "outputs": [
    {
     "name": "stdout",
     "output_type": "stream",
     "text": [
      "abc\n",
      "I love Python\n",
      "\n",
      "life is short,\n",
      "I love Python!\n",
      "\n"
     ]
    }
   ],
   "execution_count": 42
  },
  {
   "metadata": {
    "ExecuteTime": {
     "end_time": "2025-09-08T04:47:59.517384Z",
     "start_time": "2025-09-08T04:47:59.515018Z"
    }
   },
   "cell_type": "code",
   "source": [
    "a_str = \"Guido says: '人生苦短，我用Python！'\"\n",
    "print(a_str)"
   ],
   "id": "9acee941e35b7168",
   "outputs": [
    {
     "name": "stdout",
     "output_type": "stream",
     "text": [
      "Guido says: '人生苦短，我用Python！'\n"
     ]
    }
   ],
   "execution_count": 43
  },
  {
   "metadata": {
    "ExecuteTime": {
     "end_time": "2025-09-08T04:47:59.538698Z",
     "start_time": "2025-09-08T04:47:59.536628Z"
    }
   },
   "cell_type": "code",
   "source": [
    "# 编码ASCII -- 0-127\n",
    "# GBK GB2312 -- 2个字节，每个字节的最高位\n",
    "# 统一编码 utf-8编码  一个汉字3个字节\n",
    "\n",
    "a_str = \"我爱北京天安门\"\n",
    "print(len(a_str))"
   ],
   "id": "f9a8bc5cf5e0909b",
   "outputs": [
    {
     "name": "stdout",
     "output_type": "stream",
     "text": [
      "7\n"
     ]
    }
   ],
   "execution_count": 44
  },
  {
   "metadata": {
    "ExecuteTime": {
     "end_time": "2025-09-08T04:47:59.557866Z",
     "start_time": "2025-09-08T04:47:59.556023Z"
    }
   },
   "cell_type": "code",
   "source": [
    "# 字符的asc码和字符的转换 ord() 字符的acs值。chr() asc码对应的字符\n",
    "print(ord('#'))\n",
    "print(chr(97))"
   ],
   "id": "6abda9041fb83511",
   "outputs": [
    {
     "name": "stdout",
     "output_type": "stream",
     "text": [
      "35\n",
      "a\n"
     ]
    }
   ],
   "execution_count": 45
  },
  {
   "metadata": {
    "ExecuteTime": {
     "end_time": "2025-09-08T04:47:59.581828Z",
     "start_time": "2025-09-08T04:47:59.578788Z"
    }
   },
   "cell_type": "code",
   "source": [
    "# 字符串的转义 \\+特殊字符表示了特殊的含义\n",
    "# \\n换行      \\t tab\n",
    "\n",
    "# 取消转义  \\\\\n",
    "\n",
    "# python中特殊的处理  -- 字符串前加一个小写的r"
   ],
   "id": "d361e25effe4818c",
   "outputs": [],
   "execution_count": 46
  },
  {
   "metadata": {
    "ExecuteTime": {
     "end_time": "2025-09-08T04:47:59.597026Z",
     "start_time": "2025-09-08T04:47:59.594931Z"
    }
   },
   "cell_type": "code",
   "source": [
    "# 字符串的运算   支持+运算和*运算\n",
    "print(\"abc\" + \"xyz\" + \"ddd\")    # + 用于拼接字符串\n",
    "print(\"abc\" * 3)        # * 正整数  字符串翻倍\n",
    "print(\"xyz\" * 2)"
   ],
   "id": "fca02f31bf20e2ff",
   "outputs": [
    {
     "name": "stdout",
     "output_type": "stream",
     "text": [
      "abcxyzddd\n",
      "abcabcabc\n",
      "xyzxyz\n"
     ]
    }
   ],
   "execution_count": 47
  },
  {
   "metadata": {
    "ExecuteTime": {
     "end_time": "2025-09-08T04:47:59.621402Z",
     "start_time": "2025-09-08T04:47:59.618807Z"
    }
   },
   "cell_type": "code",
   "source": [
    "# 字符串的索引    -- 元素在集合的位置\n",
    "a_str = \"我爱北京天安门\"\n",
    "print(a_str[1])\n",
    "print(a_str[5])\n",
    "# print(a_str[len(a_str)])\n",
    "\n",
    "# python支持反向索引 -1，-2，-3\n",
    "print(a_str[-1], a_str[-5])"
   ],
   "id": "5f003aee858f34c0",
   "outputs": [
    {
     "name": "stdout",
     "output_type": "stream",
     "text": [
      "爱\n",
      "安\n",
      "门 北\n"
     ]
    }
   ],
   "execution_count": 48
  },
  {
   "metadata": {
    "ExecuteTime": {
     "end_time": "2025-09-08T04:47:59.639149Z",
     "start_time": "2025-09-08T04:47:59.636711Z"
    }
   },
   "cell_type": "code",
   "source": [
    "# 利用索引切片    字符串[start:end] start:切片开始的字符索引  end是切片结束的字符索引\n",
    "# start默认是0，end默认是len(字符串)\n",
    "# 包左不包右\n",
    "print(a_str[1:5])\n",
    "print(a_str[2:5])\n",
    "print(a_str[:3])\n",
    "print(a_str[3:])"
   ],
   "id": "78097cd041de5293",
   "outputs": [
    {
     "name": "stdout",
     "output_type": "stream",
     "text": [
      "爱北京天\n",
      "北京天\n",
      "我爱北\n",
      "京天安门\n"
     ]
    }
   ],
   "execution_count": 49
  },
  {
   "metadata": {
    "ExecuteTime": {
     "end_time": "2025-09-08T04:47:59.658637Z",
     "start_time": "2025-09-08T04:47:59.655890Z"
    }
   },
   "cell_type": "code",
   "source": [
    "# 字符串的格式化\n",
    "name = 'gejingyi'\n",
    "age = 21\n",
    "print('name = %s, age = %d' %(name, age))"
   ],
   "id": "579ad36af47ae245",
   "outputs": [
    {
     "name": "stdout",
     "output_type": "stream",
     "text": [
      "name = gejingyi, age = 21\n"
     ]
    }
   ],
   "execution_count": 50
  },
  {
   "metadata": {
    "ExecuteTime": {
     "end_time": "2025-09-08T04:47:59.691121Z",
     "start_time": "2025-09-08T04:47:59.689203Z"
    }
   },
   "cell_type": "code",
   "source": [
    "print(\"name = {}, age = {}\".format(name, age))\n",
    "print(\"name = {1}, age = {0}, they call me {1}\".format(age, name))\n",
    "print(f\"name = {name}, age = {age}\")"
   ],
   "id": "bc46a0c50d5e2033",
   "outputs": [
    {
     "name": "stdout",
     "output_type": "stream",
     "text": [
      "name = gejingyi, age = 21\n",
      "name = gejingyi, age = 21, they call me gejingyi\n",
      "name = gejingyi, age = 21\n"
     ]
    }
   ],
   "execution_count": 51
  },
  {
   "metadata": {
    "ExecuteTime": {
     "end_time": "2025-09-08T04:57:14.624678Z",
     "start_time": "2025-09-08T04:57:06.149167Z"
    }
   },
   "cell_type": "code",
   "source": [
    "# input：从键盘输入，input的结果一定是字符串\n",
    "price = float(input('请输入苹果的单价（元/kg）：'))\n",
    "weight = float(input('请输入苹果购买的重量（kg）：'))\n",
    "print(f\"购买{weight}kg苹果需要支付：{price * weight:.2f}元\")"
   ],
   "id": "3b624e1d0de9cbb4",
   "outputs": [
    {
     "name": "stdout",
     "output_type": "stream",
     "text": [
      "购买52.0kg苹果需要支付：455.00元\n"
     ]
    }
   ],
   "execution_count": 54
  },
  {
   "metadata": {
    "ExecuteTime": {
     "end_time": "2025-09-08T05:04:23.363769Z",
     "start_time": "2025-09-08T05:04:23.360472Z"
    }
   },
   "cell_type": "code",
   "source": [
    "name = \"gejingyi\"\n",
    "age = 21\n",
    "print(f\"name = {name:0^15}, age = {age:03d}\")"
   ],
   "id": "348f75f37ea9359b",
   "outputs": [
    {
     "name": "stdout",
     "output_type": "stream",
     "text": [
      "name = 000gejingyi0000, age = 021\n"
     ]
    }
   ],
   "execution_count": 60
  },
  {
   "metadata": {},
   "cell_type": "markdown",
   "source": "# 五、案例",
   "id": "d8af6810deffa59c"
  },
  {
   "metadata": {},
   "cell_type": "markdown",
   "source": "## 1. 成绩",
   "id": "74cda602170d3863"
  },
  {
   "metadata": {
    "ExecuteTime": {
     "end_time": "2025-09-08T05:09:01.068510Z",
     "start_time": "2025-09-08T05:08:57.694252Z"
    }
   },
   "cell_type": "code",
   "source": [
    "python = float(input(\"请输入python成绩\"))\n",
    "if python >= 90:\n",
    "    print(f\"您的python成绩是：{python}，等级为：A\")\n",
    "elif python >= 80:\n",
    "    print(f\"您的python成绩是：{python}，等级为：B\")\n",
    "elif python >= 70:\n",
    "    print(f\"您的python成绩是：{python}，等级为：C\")\n",
    "elif python >= 60:\n",
    "    print(f\"您的python成绩是：{python}，等级为：D\")\n",
    "else:\n",
    "    print(f\"您的python成绩是：{python}，不及格，等级为：E\")"
   ],
   "id": "321adfe3196e6bc9",
   "outputs": [
    {
     "name": "stdout",
     "output_type": "stream",
     "text": [
      "您的python成绩是：52.0，不及格，等级为：E\n"
     ]
    }
   ],
   "execution_count": 68
  },
  {
   "metadata": {},
   "cell_type": "markdown",
   "source": "## 2. 剪刀石头布",
   "id": "c4efaa04deb8a4d9"
  },
  {
   "metadata": {
    "ExecuteTime": {
     "end_time": "2025-09-08T05:26:33.876980Z",
     "start_time": "2025-09-08T05:26:32.653825Z"
    }
   },
   "cell_type": "code",
   "source": [
    "import random\n",
    "\n",
    "# 1 -- 剪刀    2 -- 石头     3 -- 布\n",
    "computer = random.choice([1, 2, 3])\n",
    "print('电脑已经准备好了，游戏开始！')\n",
    "print(\"\"\"\n",
    "1 -- 剪刀\n",
    "2 -- 石头\n",
    "3 -- 布\n",
    "\"\"\")\n",
    "\n",
    "you = int(input('请输入您的选择：'))\n",
    "\n",
    "if you < 1 or you > 3:\n",
    "    print('输入无效，你输了！')\n",
    "else:\n",
    "    # 显示双方选择\n",
    "    choices = {1: '剪刀', 2: '石头', 3: '布'}\n",
    "    print(f'你选择了：{choices[you]}')\n",
    "    print(f'电脑选择了：{choices[computer]}')\n",
    "\n",
    "    # 判断胜负\n",
    "    if you == computer:\n",
    "        print('平局！')\n",
    "    # 剪刀(1)赢布(3)，石头(2)赢剪刀(1)，布(3)赢石头(2)\n",
    "    elif (you == 1 and computer == 3) or (you == 2 and computer == 1) or (you == 3 and computer == 2):\n",
    "        print('你赢了！')\n",
    "    else:\n",
    "        print('你输了！')\n"
   ],
   "id": "bb337476d7e6e741",
   "outputs": [
    {
     "name": "stdout",
     "output_type": "stream",
     "text": [
      "电脑已经准备好了，游戏开始！\n",
      "\n",
      "1 -- 剪刀\n",
      "2 -- 石头\n",
      "3 -- 布\n",
      "\n",
      "你选择了：布\n",
      "电脑选择了：石头\n",
      "你赢了！\n"
     ]
    }
   ],
   "execution_count": 81
  },
  {
   "metadata": {},
   "cell_type": "markdown",
   "source": "## 六、循环控制",
   "id": "7f18235f02cd3a94"
  },
  {
   "metadata": {},
   "cell_type": "code",
   "outputs": [],
   "execution_count": null,
   "source": [
    "# 循环\n",
    "# while 条件\n",
    "#     循环条件"
   ],
   "id": "c4d21e6a09b387f9"
  },
  {
   "metadata": {
    "ExecuteTime": {
     "end_time": "2025-09-08T05:40:34.345224Z",
     "start_time": "2025-09-08T05:40:34.342074Z"
    }
   },
   "cell_type": "code",
   "source": [
    "# 计算1+2+3+……+100 = 5050\n",
    "count = 1\n",
    "total = 0\n",
    "while count <= 100:\n",
    "    total += count\n",
    "    count += 1\n",
    "print(\"1+2+3+...+100的和是：\", total)"
   ],
   "id": "a389bb5fef901dec",
   "outputs": [
    {
     "name": "stdout",
     "output_type": "stream",
     "text": [
      "1+2+3+...+100的和是： 5050\n"
     ]
    }
   ],
   "execution_count": 83
  },
  {
   "metadata": {
    "ExecuteTime": {
     "end_time": "2025-09-08T05:45:26.092881Z",
     "start_time": "2025-09-08T05:45:26.090980Z"
    }
   },
   "cell_type": "code",
   "source": [
    "# in操作 元素 in 集合\n",
    "print('a' in 'i am a boy')\n",
    "print('x' in 'i am a boy')"
   ],
   "id": "70a250f2e229a2c8",
   "outputs": [
    {
     "name": "stdout",
     "output_type": "stream",
     "text": [
      "True\n",
      "False\n"
     ]
    }
   ],
   "execution_count": 86
  },
  {
   "metadata": {
    "ExecuteTime": {
     "end_time": "2025-09-08T05:43:04.023551Z",
     "start_time": "2025-09-08T05:43:04.020260Z"
    }
   },
   "cell_type": "code",
   "source": [
    "total = 0\n",
    "\n",
    "# 循环1到100的所有数字\n",
    "for num in range(1, 101):\n",
    "    total += num  # 累加每个数字\n",
    "\n",
    "print(\"1+2+3+...+100的和是：\", total)"
   ],
   "id": "135cbdc8e4f81d0e",
   "outputs": [
    {
     "name": "stdout",
     "output_type": "stream",
     "text": [
      "1+2+3+...+100的和是： 5050\n"
     ]
    }
   ],
   "execution_count": 84
  },
  {
   "metadata": {
    "ExecuteTime": {
     "end_time": "2025-09-08T05:58:02.374266Z",
     "start_time": "2025-09-08T05:58:02.367888Z"
    }
   },
   "cell_type": "code",
   "source": [
    "# 1000以内有多少个数字和7有关\n",
    "count = 1\n",
    "total = 0\n",
    "while count <= 1000:\n",
    "    if count % 7 == 0 or '7' in str(count):\n",
    "        print(f\"{count:3}\", end = ' ')\n",
    "        total += 1\n",
    "        if total % 10 == 0:\n",
    "            print()\n",
    "    count += 1\n",
    "print()\n",
    "print(f'1000以内和7有关的数字共有：{total}个')"
   ],
   "id": "befd2c05a04d968c",
   "outputs": [
    {
     "name": "stdout",
     "output_type": "stream",
     "text": [
      "  7  14  17  21  27  28  35  37  42  47 \n",
      " 49  56  57  63  67  70  71  72  73  74 \n",
      " 75  76  77  78  79  84  87  91  97  98 \n",
      "105 107 112 117 119 126 127 133 137 140 \n",
      "147 154 157 161 167 168 170 171 172 173 \n",
      "174 175 176 177 178 179 182 187 189 196 \n",
      "197 203 207 210 217 224 227 231 237 238 \n",
      "245 247 252 257 259 266 267 270 271 272 \n",
      "273 274 275 276 277 278 279 280 287 294 \n",
      "297 301 307 308 315 317 322 327 329 336 \n",
      "337 343 347 350 357 364 367 370 371 372 \n",
      "373 374 375 376 377 378 379 385 387 392 \n",
      "397 399 406 407 413 417 420 427 434 437 \n",
      "441 447 448 455 457 462 467 469 470 471 \n",
      "472 473 474 475 476 477 478 479 483 487 \n",
      "490 497 504 507 511 517 518 525 527 532 \n",
      "537 539 546 547 553 557 560 567 570 571 \n",
      "572 573 574 575 576 577 578 579 581 587 \n",
      "588 595 597 602 607 609 616 617 623 627 \n",
      "630 637 644 647 651 657 658 665 667 670 \n",
      "671 672 673 674 675 676 677 678 679 686 \n",
      "687 693 697 700 701 702 703 704 705 706 \n",
      "707 708 709 710 711 712 713 714 715 716 \n",
      "717 718 719 720 721 722 723 724 725 726 \n",
      "727 728 729 730 731 732 733 734 735 736 \n",
      "737 738 739 740 741 742 743 744 745 746 \n",
      "747 748 749 750 751 752 753 754 755 756 \n",
      "757 758 759 760 761 762 763 764 765 766 \n",
      "767 768 769 770 771 772 773 774 775 776 \n",
      "777 778 779 780 781 782 783 784 785 786 \n",
      "787 788 789 790 791 792 793 794 795 796 \n",
      "797 798 799 805 807 812 817 819 826 827 \n",
      "833 837 840 847 854 857 861 867 868 870 \n",
      "871 872 873 874 875 876 877 878 879 882 \n",
      "887 889 896 897 903 907 910 917 924 927 \n",
      "931 937 938 945 947 952 957 959 966 967 \n",
      "970 971 972 973 974 975 976 977 978 979 \n",
      "980 987 994 997 \n",
      "1000以内和7有关的数字共有：374个\n"
     ]
    }
   ],
   "execution_count": 95
  },
  {
   "metadata": {
    "ExecuteTime": {
     "end_time": "2025-09-08T06:13:43.117521Z",
     "start_time": "2025-09-08T06:13:38.482003Z"
    }
   },
   "cell_type": "code",
   "source": [
    "# 输入10以内的整数n，第一行打印一个*，第二行两个*，第三行以此类推......\n",
    "while True:\n",
    "    line = input('please input line: ')\n",
    "    if not line.isdigit():\n",
    "        print(\"请输入1到10之间的整数\")\n",
    "        continue\n",
    "    line = int(line)\n",
    "    if line < 1 or line > 10:\n",
    "        print(\"请输入1到10之间的整数\")\n",
    "        continue\n",
    "    row = 0\n",
    "    while row <= line:\n",
    "        print('*' * row)\n",
    "        row += 1\n",
    "    break"
   ],
   "id": "f7be7c101b1d9751",
   "outputs": [
    {
     "name": "stdout",
     "output_type": "stream",
     "text": [
      "\n",
      "*\n",
      "**\n",
      "***\n",
      "****\n",
      "*****\n",
      "******\n",
      "*******\n",
      "********\n",
      "*********\n"
     ]
    }
   ],
   "execution_count": 106
  },
  {
   "metadata": {
    "ExecuteTime": {
     "end_time": "2025-09-08T06:16:11.932431Z",
     "start_time": "2025-09-08T06:16:10.289401Z"
    }
   },
   "cell_type": "code",
   "source": [
    "# 输入10以内的整数n，第一行打印一个*，第二行两个*，第三行以此类推......\n",
    "while True:\n",
    "    line = input('please input line: ')\n",
    "    if not line.isdigit():\n",
    "        print(\"请输入1到10之间的整数\")\n",
    "        continue\n",
    "    line = int(line)\n",
    "    if line < 1 or line > 10:\n",
    "        print(\"请输入1到10之间的整数\")\n",
    "        continue\n",
    "    row = 1\n",
    "    while row <= line:\n",
    "        col = 1\n",
    "        while col <= row:\n",
    "            print('*', end='')\n",
    "            col += 1\n",
    "        print()\n",
    "        row += 1\n",
    "    break"
   ],
   "id": "6368feeccf1c7518",
   "outputs": [
    {
     "name": "stdout",
     "output_type": "stream",
     "text": [
      "*\n",
      "**\n",
      "***\n"
     ]
    }
   ],
   "execution_count": 108
  },
  {
   "metadata": {
    "ExecuteTime": {
     "end_time": "2025-09-08T06:45:29.712290Z",
     "start_time": "2025-09-08T06:45:29.709361Z"
    }
   },
   "cell_type": "code",
   "source": [
    "# 打印一个99乘法表\n",
    "row = 1\n",
    "while row <= 9:\n",
    "    col = 1\n",
    "    while col <= row:\n",
    "        print(f\"{row} * {col} = {row * col:2d}\", end = \" \")\n",
    "        col += 1\n",
    "    print()\n",
    "    row += 1"
   ],
   "id": "a071acac61f47f85",
   "outputs": [
    {
     "name": "stdout",
     "output_type": "stream",
     "text": [
      "1 * 1 =  1 \n",
      "2 * 1 =  2 2 * 2 =  4 \n",
      "3 * 1 =  3 3 * 2 =  6 3 * 3 =  9 \n",
      "4 * 1 =  4 4 * 2 =  8 4 * 3 = 12 4 * 4 = 16 \n",
      "5 * 1 =  5 5 * 2 = 10 5 * 3 = 15 5 * 4 = 20 5 * 5 = 25 \n",
      "6 * 1 =  6 6 * 2 = 12 6 * 3 = 18 6 * 4 = 24 6 * 5 = 30 6 * 6 = 36 \n",
      "7 * 1 =  7 7 * 2 = 14 7 * 3 = 21 7 * 4 = 28 7 * 5 = 35 7 * 6 = 42 7 * 7 = 49 \n",
      "8 * 1 =  8 8 * 2 = 16 8 * 3 = 24 8 * 4 = 32 8 * 5 = 40 8 * 6 = 48 8 * 7 = 56 8 * 8 = 64 \n",
      "9 * 1 =  9 9 * 2 = 18 9 * 3 = 27 9 * 4 = 36 9 * 5 = 45 9 * 6 = 54 9 * 7 = 63 9 * 8 = 72 9 * 9 = 81 \n"
     ]
    }
   ],
   "execution_count": 113
  },
  {
   "metadata": {},
   "cell_type": "code",
   "source": [
    "# 打印一个99乘法表\n",
    "row = 1\n",
    "while row <= 9:\n",
    "    # 计算需要的前置空格，根据最大宽度(最后一行)计算\n",
    "    # 每个乘法表达式最多占8个字符位置(如\"9 * 9 = 81\")\n",
    "    print(\" \" * 8 * (9 - row), end=\"\")\n",
    "\n",
    "    col = 1\n",
    "    while col <= row:\n",
    "        # 统一每个表达式的宽度为8，确保对齐\n",
    "        print(f\"{row} * {col} = {row * col:2d}\", end=\"\")\n",
    "        col += 1\n",
    "    print()\n",
    "    row += 1"
   ],
   "id": "50241a2737c2029b",
   "outputs": [],
   "execution_count": null
  },
  {
   "metadata": {
    "ExecuteTime": {
     "end_time": "2025-09-08T07:01:28.098578Z",
     "start_time": "2025-09-08T07:01:24.497366Z"
    }
   },
   "cell_type": "code",
   "source": [
    "# 输入一个10以内的正整数a(a<10)，再输入一个10以内的正整数n，计算a + aa + aaa + ...aa...a(n个)\n",
    "a = int(input('please input a number: '))\n",
    "n = int(input('please input a number: '))\n",
    "\n",
    "count = 1\n",
    "result = 0\n",
    "temp = a\n",
    "while count <= n:\n",
    "    result += a * 2\n",
    "    a = a * 10 + temp\n",
    "    count += 1\n",
    "print(result)"
   ],
   "id": "df1bd444308ed37e",
   "outputs": [
    {
     "name": "stdout",
     "output_type": "stream",
     "text": [
      "72\n"
     ]
    }
   ],
   "execution_count": 125
  },
  {
   "metadata": {
    "ExecuteTime": {
     "end_time": "2025-09-08T07:09:11.875636Z",
     "start_time": "2025-09-08T07:09:09.205667Z"
    }
   },
   "cell_type": "code",
   "source": [
    "# 输入一个10以内的正整数a(a<10)，再输入一个10以内的正整数n，计算a + aa + aaa + ...aa...a(n个)\n",
    "# 获取并验证输入\n",
    "while True:\n",
    "    try:\n",
    "        a = int(input('请输入一个10以内的正整数a: '))\n",
    "        if 1 <= a < 10:\n",
    "            break\n",
    "        print(\"输入错误，请确保a是1-9之间的整数！\")\n",
    "    except ValueError:\n",
    "        print(\"输入错误，请输入一个整数！\")\n",
    "\n",
    "while True:\n",
    "    try:\n",
    "        n = int(input('请输入一个10以内的正整数n: '))\n",
    "        if 1 <= n < 10:\n",
    "            break\n",
    "        print(\"输入错误，请确保n是1-9之间的整数！\")\n",
    "    except ValueError:\n",
    "        print(\"输入错误，请输入一个整数！\")\n",
    "\n",
    "# 计算总和\n",
    "total = 0\n",
    "current_number = 0\n",
    "expression = []  # 用于存储表达式各部分，便于美观输出\n",
    "\n",
    "for i in range(1, n + 1):\n",
    "    current_number = current_number * 10 + a  # 生成当前项（a, aa, aaa...）\n",
    "    total += current_number\n",
    "    expression.append(str(current_number))\n",
    "\n",
    "# 美观输出结果\n",
    "print(f\"\\n计算过程: {' + '.join(expression)} = {total}\")\n",
    "print(f\"结果: {total}\")\n"
   ],
   "id": "b11cda12c0a7ea",
   "outputs": [
    {
     "name": "stdout",
     "output_type": "stream",
     "text": [
      "\n",
      "计算过程: 3 + 33 + 333 + 3333 + 33333 = 37035\n",
      "结果: 37035\n"
     ]
    }
   ],
   "execution_count": 128
  },
  {
   "metadata": {},
   "cell_type": "markdown",
   "source": "# 七、随机数与时间",
   "id": "54e35cb8e59e4e8e"
  },
  {
   "metadata": {
    "ExecuteTime": {
     "end_time": "2025-09-08T07:17:45.984703Z",
     "start_time": "2025-09-08T07:17:45.979690Z"
    }
   },
   "cell_type": "code",
   "source": [
    "# 随机数random\n",
    "import random\n",
    "\n",
    "# random.seed(100)\n",
    "print(random.random())\n",
    "print(random.randint(1, 10))\n",
    "print(random.uniform(1.0,5.0))\n",
    "print(random.choice([1, 5, 7, 9]))\n",
    "print(random.choice(['GeJingyi', 'LiJiawen', 'XiaJiayi']))\n",
    "print(random.choices(['GeJingyi', 'LiJiawen', 'XiaJiayi', 'XieYifei', 'ChenShimeng'], k = 3))\n"
   ],
   "id": "f3784ef1cd638317",
   "outputs": [
    {
     "name": "stdout",
     "output_type": "stream",
     "text": [
      "0.6712137375208901\n",
      "9\n",
      "3.352506913423252\n",
      "1\n",
      "XiaJiayi\n",
      "['XiaJiayi', 'ChenShimeng', 'XieYifei']\n"
     ]
    }
   ],
   "execution_count": 77
  },
  {
   "metadata": {
    "ExecuteTime": {
     "end_time": "2025-09-08T07:28:32.162744Z",
     "start_time": "2025-09-08T07:28:32.156750Z"
    }
   },
   "cell_type": "code",
   "source": [
    "import datetime\n",
    "print(datetime.datetime.today())\n",
    "print(datetime.datetime.now())\n",
    "\n",
    "today = datetime.datetime.today()\n",
    "nationDay = datetime.datetime(2025,10,1)\n",
    "delta = nationDay - today\n",
    "print(delta.days)\n",
    "print(delta.seconds)\n",
    "\n",
    "days = delta.days\n",
    "seconds = delta.seconds\n",
    "hours = delta.seconds // 3600\n",
    "seconds -= hours * 3600\n",
    "minutes = seconds // 60\n",
    "seconds -= minutes * 60\n",
    "\n",
    "print(f\"距离2025年10月1日，还有{days}天{hours}小时{minutes}分钟{seconds}秒\")"
   ],
   "id": "d93335d131d14b84",
   "outputs": [
    {
     "name": "stdout",
     "output_type": "stream",
     "text": [
      "2025-09-08 15:28:32.159736\n",
      "2025-09-08 15:28:32.159844\n",
      "22\n",
      "30687\n",
      "距离2025年10月1日，还有22天8小时31分钟27秒\n"
     ]
    }
   ],
   "execution_count": 95
  },
  {
   "metadata": {},
   "cell_type": "markdown",
   "source": "# 八、数据类型",
   "id": "b7c9a18df0aba578"
  },
  {
   "metadata": {
    "ExecuteTime": {
     "end_time": "2025-09-08T07:45:53.767958Z",
     "start_time": "2025-09-08T07:45:53.762083Z"
    }
   },
   "cell_type": "code",
   "source": [
    "# 集合数据类型 列表list 元组tuple 集合set 字典dict\n",
    "# 列表list [元素,元素,元素......]元素的类型没有限制\n",
    "a_list = [] # 生成一个空列表\n",
    "b_list = list() # 空列表\n",
    "print(bool(a_list))\n",
    "\n",
    "# 列表通过索引访问元素，和字符串一样\n",
    "cities = ['Beijing', 'Shanghai', 'Guangzhou', 'Shenzhen']\n",
    "print(cities[1])\n",
    "print(cities[1:4])\n",
    "\n",
    "# 字符串和列表\n",
    "b_list = list(\"abcd\")\n",
    "print(b_list)\n",
    "\n",
    "# print(str(b_list))     list不能直接转化为str\n",
    "\n",
    "\"\".join(b_list)\n",
    "print(\"@@\".join(b_list))"
   ],
   "id": "b4e0a58aff45e347",
   "outputs": [
    {
     "name": "stdout",
     "output_type": "stream",
     "text": [
      "False\n",
      "Shanghai\n",
      "['Shanghai', 'Guangzhou', 'Shenzhen']\n",
      "['a', 'b', 'c', 'd']\n",
      "a@@b@@c@@d\n"
     ]
    }
   ],
   "execution_count": 103
  },
  {
   "metadata": {
    "ExecuteTime": {
     "end_time": "2025-09-08T07:50:10.686653Z",
     "start_time": "2025-09-08T07:50:10.684096Z"
    }
   },
   "cell_type": "code",
   "source": [
    "a_str = \"Life is short, I Love Python\"\n",
    "a_list = a_str.split()    # 默认使用空格分开\n",
    "b_list = a_str.split(',')\n",
    "print(a_list)\n",
    "print(b_list)\n",
    "\n",
    "# 怎么split开的，就怎么连接起来\n",
    "print(' '.join(a_list))\n",
    "print(','.join(b_list))"
   ],
   "id": "571573c32382bc0f",
   "outputs": [
    {
     "name": "stdout",
     "output_type": "stream",
     "text": [
      "['Life', 'is', 'short,', 'I', 'Love', 'Python']\n",
      "['Life is short', ' I Love Python']\n",
      "Life is short, I Love Python\n",
      "Life is short, I Love Python\n"
     ]
    }
   ],
   "execution_count": 107
  }
 ],
 "metadata": {
  "kernelspec": {
   "display_name": "Python [conda env:base] *",
   "language": "python",
   "name": "conda-base-py"
  },
  "language_info": {
   "codemirror_mode": {
    "name": "ipython",
    "version": 2
   },
   "file_extension": ".py",
   "mimetype": "text/x-python",
   "name": "python",
   "nbconvert_exporter": "python",
   "pygments_lexer": "ipython2",
   "version": "2.7.6"
  }
 },
 "nbformat": 4,
 "nbformat_minor": 5
}
